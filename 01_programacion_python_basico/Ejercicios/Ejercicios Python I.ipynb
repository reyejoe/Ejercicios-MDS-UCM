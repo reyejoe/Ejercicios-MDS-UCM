{
 "cells": [
  {
   "cell_type": "markdown",
   "id": "517724cb",
   "metadata": {},
   "source": [
    "# EJERCICIOS PYTHON I"
   ]
  },
  {
   "cell_type": "markdown",
   "id": "b474aa76",
   "metadata": {},
   "source": [
    "# "
   ]
  },
  {
   "cell_type": "markdown",
   "id": "be9a6a33",
   "metadata": {},
   "source": [
    "# Crea 2 variables, Variable1 con valor numerico=5 y Variable2 con valor texto=\"Hola\""
   ]
  },
  {
   "cell_type": "code",
   "execution_count": 1,
   "id": "0485bcd5",
   "metadata": {},
   "outputs": [
    {
     "data": {
      "text/plain": [
       "'Hola'"
      ]
     },
     "execution_count": 1,
     "metadata": {},
     "output_type": "execute_result"
    }
   ],
   "source": [
    "Variable1 = 5\n",
    "Variable2=\"Hola\"\n",
    "Variable2"
   ]
  },
  {
   "cell_type": "markdown",
   "id": "8ae17004",
   "metadata": {},
   "source": [
    "# Crea 2 variables, Variable1 y Variable2 que reciben valor por teclado. Despues muestra su multiplicación"
   ]
  },
  {
   "cell_type": "code",
   "execution_count": 2,
   "id": "e1d97960",
   "metadata": {},
   "outputs": [
    {
     "name": "stdout",
     "output_type": "stream",
     "text": [
      "4\n"
     ]
    }
   ],
   "source": [
    "#Solución 1\n",
    "Variable1 = input()\n",
    "Variable2 = input()\n",
    "print(int(Variable1) * int(Variable2))"
   ]
  },
  {
   "cell_type": "code",
   "execution_count": 3,
   "id": "e6d96c7d",
   "metadata": {},
   "outputs": [
    {
     "name": "stdout",
     "output_type": "stream",
     "text": [
      "9\n"
     ]
    }
   ],
   "source": [
    "#Solución 2\n",
    "Variable1 = int(input())\n",
    "Variable2 = int(input())\n",
    "print(Variable1 * Variable2)"
   ]
  },
  {
   "cell_type": "code",
   "execution_count": 4,
   "id": "5e6b89c9",
   "metadata": {},
   "outputs": [
    {
     "name": "stdout",
     "output_type": "stream",
     "text": [
      "4\n"
     ]
    }
   ],
   "source": [
    "#Solución 3\n",
    "Variable1 = int(input())\n",
    "Variable2 = int(input())\n",
    "Resultado = Variable1* Variable2\n",
    "print(Resultado)"
   ]
  },
  {
   "cell_type": "markdown",
   "id": "9fc7c662",
   "metadata": {},
   "source": [
    "# Pide tu nombre por teclado y muestra un mensaje personalizado deseandote un buen dia"
   ]
  },
  {
   "cell_type": "code",
   "execution_count": 5,
   "id": "474358ae",
   "metadata": {},
   "outputs": [
    {
     "name": "stdout",
     "output_type": "stream",
     "text": [
      "Introduce tu nombre:\n"
     ]
    },
    {
     "name": "stdout",
     "output_type": "stream",
     "text": [
      "Hola Joel, espero que tengas un buen dia!\n"
     ]
    }
   ],
   "source": [
    "#Solución 1\n",
    "print(\"Introduce tu nombre:\")\n",
    "nombre = input()\n",
    "print(\"Hola \" + nombre + \", espero que tengas un buen dia!\")"
   ]
  },
  {
   "cell_type": "code",
   "execution_count": 6,
   "id": "4764e052",
   "metadata": {},
   "outputs": [
    {
     "name": "stdout",
     "output_type": "stream",
     "text": [
      "Introduce tu nombre: Hola Joel, espero que tengas un buen dia!\n"
     ]
    }
   ],
   "source": [
    "#Solución 2\n",
    "print(\"Introduce tu nombre: \", end=\"\")\n",
    "nombre = input()\n",
    "cadena = \"Hola {}, espero que tengas un buen dia!\".format(nombre)\n",
    "print(cadena)"
   ]
  },
  {
   "cell_type": "markdown",
   "id": "5899005a",
   "metadata": {},
   "source": [
    "# Pide 3 variables: Variable1, Variable2 y Variable3. Introduce en ellas por teclado valores numéricos. Si son iguales mostrara True, False en caso contrario. (Todavía no podemos usar IF)"
   ]
  },
  {
   "cell_type": "code",
   "execution_count": 10,
   "id": "55307d6d",
   "metadata": {},
   "outputs": [
    {
     "data": {
      "text/plain": [
       "False"
      ]
     },
     "execution_count": 10,
     "metadata": {},
     "output_type": "execute_result"
    }
   ],
   "source": [
    "Variable1 = int(input())\n",
    "Variable2 = int(input())\n",
    "Variable3 = int(input())\n",
    "\n",
    "(Variable1==Variable2) and (Variable2==Variable3)\n"
   ]
  },
  {
   "cell_type": "markdown",
   "id": "d36ea45a",
   "metadata": {},
   "source": [
    "# Pide 3 variables: Variable1, Variable2 y Variable3. Introduce en ellas por teclado valores numéricos. Si alguna es mayor de 100 mostrara True, False en caso contrario. (Todavía no podemos usar IF)"
   ]
  },
  {
   "cell_type": "code",
   "execution_count": 11,
   "id": "b35459df",
   "metadata": {},
   "outputs": [
    {
     "data": {
      "text/plain": [
       "False"
      ]
     },
     "execution_count": 11,
     "metadata": {},
     "output_type": "execute_result"
    }
   ],
   "source": [
    "Variable1 = int(input())\n",
    "Variable2 = int(input())\n",
    "Variable3 = int(input())\n",
    "( (Variable1 > 100) or (Variable2 > 100) or (Variable3 > 100) )"
   ]
  }
 ],
 "metadata": {
  "kernelspec": {
   "display_name": "Python 3 (ipykernel)",
   "language": "python",
   "name": "python3"
  },
  "language_info": {
   "codemirror_mode": {
    "name": "ipython",
    "version": 3
   },
   "file_extension": ".py",
   "mimetype": "text/x-python",
   "name": "python",
   "nbconvert_exporter": "python",
   "pygments_lexer": "ipython3",
   "version": "3.8.10"
  }
 },
 "nbformat": 4,
 "nbformat_minor": 5
}
