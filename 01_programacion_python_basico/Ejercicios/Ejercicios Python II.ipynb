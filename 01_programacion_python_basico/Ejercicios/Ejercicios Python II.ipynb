{
 "cells": [
  {
   "cell_type": "markdown",
   "id": "14a75f3e",
   "metadata": {},
   "source": [
    "# PYTHON II"
   ]
  },
  {
   "cell_type": "markdown",
   "id": "f3b228d6",
   "metadata": {},
   "source": [
    "# "
   ]
  },
  {
   "cell_type": "markdown",
   "id": "e93e6089",
   "metadata": {},
   "source": [
    "# Crea una variable llamada Valor1 que contenga el número 5 y una variable llamada Valor2 que contenga el texto “Comiendo a programar”"
   ]
  },
  {
   "cell_type": "code",
   "execution_count": null,
   "id": "15cbda49",
   "metadata": {},
   "outputs": [],
   "source": [
    "Valor1 = 5\n",
    "Valor2 = \"Comienzo a programar\""
   ]
  },
  {
   "cell_type": "markdown",
   "id": "29370635",
   "metadata": {},
   "source": [
    "# Muestra un mensaje que solicite el nombre del usuario, una vez introducido, se mostrara un mensaje personalizado dando los buenos días.\n"
   ]
  },
  {
   "cell_type": "code",
   "execution_count": null,
   "id": "11e9177a",
   "metadata": {},
   "outputs": [],
   "source": [
    "print(\"Buenos dias \" + input(\"Introduce tu nombre \"))"
   ]
  },
  {
   "cell_type": "markdown",
   "id": "eb3f64a4",
   "metadata": {},
   "source": [
    "# Introducido un número por teclado, nos dirá si es positivo."
   ]
  },
  {
   "cell_type": "code",
   "execution_count": 1,
   "id": "aa89b34d",
   "metadata": {},
   "outputs": [
    {
     "name": "stdout",
     "output_type": "stream",
     "text": [
      "El numero es positivo\n"
     ]
    }
   ],
   "source": [
    "#Solución 1\n",
    "numero=int(input())\n",
    "if numero>0:\n",
    "    print(\"El numero es positivo\")"
   ]
  },
  {
   "cell_type": "code",
   "execution_count": null,
   "id": "3a1da6aa",
   "metadata": {},
   "outputs": [],
   "source": [
    "#Solución 2\n",
    "numero=int(input())\n",
    "if numero>0:\n",
    "    print(\"El numero es positivo\")\n",
    "else:\n",
    "    if numero<0:\n",
    "        print(\"El numero es negativo\")\n",
    "    else:\n",
    "        if numero==0:\n",
    "            print(\"El numero es 0\")"
   ]
  },
  {
   "cell_type": "markdown",
   "id": "51a13b50",
   "metadata": {},
   "source": [
    "# Introducidos 3 números por teclado nos dirá cuál es el mayor."
   ]
  },
  {
   "cell_type": "code",
   "execution_count": null,
   "id": "02a14ca8",
   "metadata": {},
   "outputs": [],
   "source": [
    "#Solución 1\n",
    "Valor1 = input()\n",
    "Valor2 = input()\n",
    "Valor3 = input()\n",
    "\n",
    "if (Valor1>=Valor2) and (Valor1>=Valor3):\n",
    "    print(Valor1+\" es el mayor\")\n",
    "else:\n",
    "    if (Valor2>=Valor1) and (Valor2>=Valor3):    \n",
    "        print(Valor2+\" es el mayor\")\n",
    "    else:\n",
    "        if (Valor3>=Valor1) and (Valor3>=Valor1):    \n",
    "            print(Valor3+\" es el mayor\")"
   ]
  },
  {
   "cell_type": "code",
   "execution_count": null,
   "id": "358dac01",
   "metadata": {},
   "outputs": [],
   "source": [
    "#Solución 2\n",
    "Valor1 = input()\n",
    "Valor2 = input()\n",
    "Valor3 = input()\n",
    "\n",
    "if (Valor1>=Valor2) and (Valor1>=Valor3):\n",
    "        print(Valor1+\" es el mayor\")\n",
    "elif (Valor2>=Valor1) and (Valor2>=Valor3):    \n",
    "        print(Valor2+\" es el mayor\")\n",
    "elif (Valor3>=Valor1) and (Valor3>=Valor1):    \n",
    "        print(Valor3+\" es el mayor\")"
   ]
  },
  {
   "attachments": {},
   "cell_type": "markdown",
   "id": "07329d7f",
   "metadata": {},
   "source": [
    "# Pedir un numero por teclado hasta introducir un numero entre 1000 y 1500"
   ]
  },
  {
   "cell_type": "code",
   "execution_count": null,
   "id": "e04c3fbc",
   "metadata": {},
   "outputs": [],
   "source": [
    "#Solución 1\n",
    "numero=1\n",
    "while (numero<1000 or numero>1500):\n",
    "    numero=int(input())"
   ]
  },
  {
   "cell_type": "code",
   "execution_count": null,
   "id": "22a20a38",
   "metadata": {},
   "outputs": [],
   "source": [
    "#Solución 2\n",
    "numero=1\n",
    "while not(numero>=1000 and numero<=1500):\n",
    "    numero=int(input())"
   ]
  },
  {
   "cell_type": "markdown",
   "id": "f54498bd",
   "metadata": {},
   "source": [
    "# Introducido un número entre 1 y 10 mostrar su tabla de multiplicar."
   ]
  },
  {
   "cell_type": "code",
   "execution_count": null,
   "id": "c4ec5860",
   "metadata": {},
   "outputs": [],
   "source": [
    "#Solución 1\n",
    "numero=int(input(\"Introduce un número: \"))\n",
    "Contador=0;\n",
    "while Contador<11:\n",
    "    print(Contador * numero)\n",
    "    Contador = Contador + 1"
   ]
  },
  {
   "cell_type": "code",
   "execution_count": null,
   "id": "d9c13d1d",
   "metadata": {},
   "outputs": [],
   "source": [
    "#Solución 2\n",
    "numero=int(input(\"Introduce un número: \"))\n",
    "for contador in range(11):\n",
    "    print(contador * numero)"
   ]
  },
  {
   "attachments": {},
   "cell_type": "markdown",
   "id": "c816067c",
   "metadata": {},
   "source": [
    "# Leer 2 números por teclado y mostrar el menú:\n",
    "1. Sumar\n",
    "2. Restar\n",
    "3. Multiplicar\n",
    "4. Dividir\n",
    "\n",
    "Después, leer por teclado un número entere 1 y 4. Según la opción elegida mostrar el resultado de la operación con los 2 números introducidos."
   ]
  },
  {
   "cell_type": "code",
   "execution_count": null,
   "id": "f3023831",
   "metadata": {},
   "outputs": [],
   "source": [
    "#Solución 1\n",
    "Numero1=int(input())\n",
    "Numero2=int(input())\n",
    "\n",
    "print(\"1. Sumar \\n2. Restar \\n3. Multiplicar \\n4. Dividir\")\n",
    "\n",
    "opcion=int(input())\n",
    "\n",
    "if opcion==1:\n",
    "    print(Numero1+Numero2)\n",
    "if opcion==2:\n",
    "    print(Numero1-Numero2)\n",
    "if opcion==3:\n",
    "    print(Numero1*Numero2)\n",
    "if opcion==4:\n",
    "    print(Numero1/Numero2) "
   ]
  },
  {
   "cell_type": "code",
   "execution_count": null,
   "id": "5dc8959f",
   "metadata": {},
   "outputs": [],
   "source": [
    "#Solución 1\n",
    "Numero1=float(input())\n",
    "Numero2=float(input())\n",
    "\n",
    "print(\"1. Sumar \\n2. Restar \\n3. Multiplicar \\n4. Dividir\")\n",
    "\n",
    "opcion=int(input())\n",
    "\n",
    "if opcion==1:\n",
    "    print(Numero1+Numero2)\n",
    "elif opcion==2:\n",
    "    print(Numero1-Numero2)\n",
    "elif opcion==3:\n",
    "    print(Numero1*Numero2)\n",
    "elif opcion==4:\n",
    "    print(Numero1/Numero2) "
   ]
  },
  {
   "cell_type": "markdown",
   "id": "87be740e",
   "metadata": {},
   "source": [
    "# Dada una nota numérica sin decimales entre 1 y 10 introducida por teclado mostrar un mensaje de texto indicando la nota según este baremo:\n",
    "1-4 Suspenso\n",
    "5-6 Bien\n",
    "7-8 Notable\n",
    "9-10 Sobresaliente\n"
   ]
  },
  {
   "cell_type": "code",
   "execution_count": null,
   "id": "13a09238",
   "metadata": {},
   "outputs": [],
   "source": [
    "#Solución 1\n",
    "nota=int(input())\n",
    "if nota>=1 and nota<=4:\n",
    "    print(\"Suspenso\")\n",
    "if nota>=5 and nota<=6:\n",
    "    print(\"Bien\")\n",
    "if nota>=7 and nota<=8:\n",
    "    print(\"Notable\")\n",
    "if nota>=9 and nota<=10:\n",
    "    print(\"Sobresaliente\")"
   ]
  },
  {
   "cell_type": "code",
   "execution_count": null,
   "id": "6a5fb19c",
   "metadata": {},
   "outputs": [],
   "source": [
    "#Solución 2\n",
    "nota=int(input())\n",
    "if nota>=1 and nota<=4:\n",
    "    print(\"Suspenso\")\n",
    "else:\n",
    "    if nota>=5 and nota<=6:\n",
    "        print(\"Bien\")\n",
    "    else:\n",
    "        if nota>=7 and nota<=8:\n",
    "            print(\"Notable\")\n",
    "        else:\n",
    "            if nota>=9 and nota<=10:\n",
    "                print(\"Sobresaliente\")\n",
    "            else:\n",
    "                 print(\"Nota erronea\")"
   ]
  },
  {
   "cell_type": "markdown",
   "id": "f9173a27",
   "metadata": {},
   "source": [
    "# Provocar un bucle infinito que muestre la palabra “ERROR”"
   ]
  },
  {
   "cell_type": "code",
   "execution_count": null,
   "id": "b0b8a9cf",
   "metadata": {},
   "outputs": [],
   "source": [
    "#Solución 1\n",
    "while(True):\n",
    "    print(\"ERROR\")"
   ]
  },
  {
   "cell_type": "code",
   "execution_count": null,
   "id": "110d9dcf",
   "metadata": {},
   "outputs": [],
   "source": [
    "#Solución 2\n",
    "while 1==1:\n",
    "    print(\"ERROR\")"
   ]
  },
  {
   "attachments": {},
   "cell_type": "markdown",
   "id": "2493962b",
   "metadata": {},
   "source": [
    "# Queremos hacer un juego para 2 jugadores: el primero introduce un número y el segundo debe adivinarlo. El número a adivinar debe estar entre 1 y 1000. Se permite solo 10 intentos para intentar adivinarlo y si no lo acierta el programa le informara sobre si el numero buscado es menor o mayor."
   ]
  },
  {
   "cell_type": "code",
   "execution_count": null,
   "id": "3ab40447",
   "metadata": {},
   "outputs": [],
   "source": [
    "#Ejercicio orientado a la práctica final. Ir preguntando en clase."
   ]
  },
  {
   "cell_type": "code",
   "execution_count": 26,
   "id": "a55d5fc2",
   "metadata": {},
   "outputs": [],
   "source": [
    "import warnings\n",
    "warnings.filterwarnings(\"ignore\")"
   ]
  },
  {
   "cell_type": "code",
   "execution_count": 29,
   "id": "0eb1fc68",
   "metadata": {},
   "outputs": [
    {
     "name": "stdout",
     "output_type": "stream",
     "text": [
      "Ingrese un número entre 1 y 1000\n",
      "Haga su primer intento\n",
      "Intente de nuevo\n",
      "Intente de nuevo\n",
      "Intente de nuevo\n",
      "Intente de nuevo\n",
      "Intente de nuevo\n",
      "Intente de nuevo\n",
      "Intente de nuevo\n",
      "Intente de nuevo\n",
      "Intente de nuevo\n"
     ]
    },
    {
     "ename": "SystemExit",
     "evalue": "No logro acertar, el número ingresado era 23",
     "output_type": "error",
     "traceback": [
      "An exception has occurred, use %tb to see the full traceback.\n",
      "\u001b[1;31mSystemExit\u001b[0m\u001b[1;31m:\u001b[0m No logro acertar, el número ingresado era 23\n"
     ]
    }
   ],
   "source": [
    "contador = 0\n",
    "print(\"Ingrese un número entre 1 y 1000\")\n",
    "while contador < 3:\n",
    "    \n",
    "    player1 = int(input())\n",
    "    \n",
    "    if player1>=1 and player1<=1000:\n",
    "        break\n",
    "    else:\n",
    "        contador+=1\n",
    "        if contador <= 2:\n",
    "            print(\"Intente de nuevo\")\n",
    "            continue\n",
    "        else:\n",
    "            raise TypeError(\"Sólo se aceptan números entre 1 y 1000\")\n",
    "\n",
    "\n",
    "nuevo_contador = 0\n",
    "print(\"Haga su primer intento\")\n",
    "while nuevo_contador < 10:\n",
    "    \n",
    "    player2 = int(input())\n",
    "    \n",
    "    if player1==player2:\n",
    "        print(f\"Número correcto {player1}\")\n",
    "        break\n",
    "    else:\n",
    "        nuevo_contador+=1\n",
    "        if nuevo_contador <= 9:\n",
    "            print(\"Intente de nuevo\")\n",
    "            continue\n",
    "        else:\n",
    "            raise SystemExit(f\"No logro acertar, el número ingresado era {player1}\")\n",
    "print(\"Felicitaciones usted gana la partida\")"
   ]
  }
 ],
 "metadata": {
  "kernelspec": {
   "display_name": "Python 3 (ipykernel)",
   "language": "python",
   "name": "python3"
  },
  "language_info": {
   "codemirror_mode": {
    "name": "ipython",
    "version": 3
   },
   "file_extension": ".py",
   "mimetype": "text/x-python",
   "name": "python",
   "nbconvert_exporter": "python",
   "pygments_lexer": "ipython3",
   "version": "3.8.10"
  }
 },
 "nbformat": 4,
 "nbformat_minor": 5
}
