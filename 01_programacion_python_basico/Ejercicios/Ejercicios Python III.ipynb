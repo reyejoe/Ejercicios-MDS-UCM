{
 "cells": [
  {
   "cell_type": "markdown",
   "id": "3294570b",
   "metadata": {},
   "source": [
    "# EJERCICIOS PYTHON III"
   ]
  },
  {
   "cell_type": "markdown",
   "id": "8aed8ae9",
   "metadata": {},
   "source": [
    "# Programa que pide un numero de palabras a insertar (mínimo 7), se introduce esas palabras creando con ellas una lista que después se muestra.\n"
   ]
  },
  {
   "cell_type": "code",
   "execution_count": null,
   "id": "dfd9c366",
   "metadata": {},
   "outputs": [],
   "source": [
    "#Solución 1\n",
    "print(\"¿Cuantas palabras vas a insertar?\")\n",
    "NumeroPalabras=int(input())\n",
    "ListaPalabras=[]\n",
    "\n",
    "for i in (range(NumeroPalabras)):\n",
    "    Palabra=input()\n",
    "    ListaPalabras.append(Palabra)\n",
    "\n",
    "ListaPalabras"
   ]
  },
  {
   "cell_type": "code",
   "execution_count": null,
   "id": "8220da02",
   "metadata": {},
   "outputs": [],
   "source": [
    "#Solución 2\n",
    "print(\"¿Cuantas palabras vas a insertar?\")\n",
    "NumeroPalabras=int(input())\n",
    "ListaPalabras=[]\n",
    "\n",
    "contador=0\n",
    "while contador < NumeroPalabras:\n",
    "    Palabra=input()\n",
    "    ListaPalabras.append(Palabra)    \n",
    "    contador=contador+1\n",
    "\n",
    "\n",
    "ListaPalabras"
   ]
  },
  {
   "cell_type": "code",
   "execution_count": null,
   "id": "d7a3bc28",
   "metadata": {},
   "outputs": [],
   "source": [
    "#Solución 3\n",
    "ListaPalabras=[]\n",
    "for i in (range(7)):\n",
    "    ListaPalabras.append(input())\n",
    "\n",
    "ListaPalabras"
   ]
  },
  {
   "cell_type": "markdown",
   "id": "62408988",
   "metadata": {},
   "source": [
    "# Se pide un numero entre 1 y 7, más una palabra. El numero introducido indica la posición en la lista anterior cuyo valor será sustituido por la palabra introducida."
   ]
  },
  {
   "cell_type": "code",
   "execution_count": null,
   "id": "ac085105",
   "metadata": {},
   "outputs": [],
   "source": [
    "posicion = int(input(\"Dime la posición entre 1-7: \"))\n",
    "palabra = input(\"Dime la palabra: \")\n",
    "\n",
    "ListaPalabras[posicion]=palabra\n",
    "\n",
    "ListaPalabras"
   ]
  },
  {
   "cell_type": "markdown",
   "id": "77ea5225",
   "metadata": {},
   "source": [
    "# Se pide la posición de un elemento en la lista y una vez introducida se elimina dicha palabra.\n"
   ]
  },
  {
   "cell_type": "code",
   "execution_count": null,
   "id": "416967b1",
   "metadata": {},
   "outputs": [],
   "source": [
    "posicion = int(input(\"Dime la posición entre 1-7: \"))\n",
    "del ListaPalabras[posicion]\n",
    "\n",
    "ListaPalabras"
   ]
  },
  {
   "cell_type": "markdown",
   "id": "c77057a8",
   "metadata": {},
   "source": [
    "# Crea un diccionario de 10 palabras ingles-español y realiza 3 consultas a este diccionario\n"
   ]
  },
  {
   "cell_type": "code",
   "execution_count": null,
   "id": "6c35938b",
   "metadata": {},
   "outputs": [],
   "source": [
    "#Solución 1\n",
    "DiccionarioIngles={\"house\":\"casa\",\"dog\":\"perro\",\"mouse\":\"raton\",\"building\":\"edificio\",\"pencil\":\"lapiz\",\"cloud\":\"nube\",\n",
    "                  \"car\":\"coche\",\"garden\":\"jardin\",\"person\":\"persona\",\"city\":\"ciudad\"}\n",
    "\n",
    "for i in range(3):\n",
    "    ingles=input()\n",
    "    print(\"Su traducción es: \" + DiccionarioIngles[ingles])"
   ]
  },
  {
   "cell_type": "code",
   "execution_count": null,
   "id": "e60eec9a",
   "metadata": {},
   "outputs": [],
   "source": [
    "#Solución 2\n",
    "DiccionarioIngles={\"house\":\"casa\",\"dog\":\"perro\",\"mouse\":\"raton\",\"building\":\"edificio\",\"pencil\":\"lapiz\",\"cloud\":\"nube\",\n",
    "                  \"car\":\"coche\",\"garden\":\"jardin\",\"person\":\"persona\",\"city\":\"ciudad\"}\n",
    "\n",
    "for i in range(3):\n",
    "    ingles=input()\n",
    "    if ingles in DiccionarioIngles:\n",
    "        print(\"Su traducción es: \" + DiccionarioIngles[ingles])\n",
    "    else:\n",
    "        print(\"Esa palabra no existe en el diccionario\")"
   ]
  },
  {
   "cell_type": "markdown",
   "id": "e9974379",
   "metadata": {},
   "source": [
    "# Añade 4 palabras mas al diccionario"
   ]
  },
  {
   "cell_type": "code",
   "execution_count": null,
   "id": "9e2691f7",
   "metadata": {},
   "outputs": [],
   "source": [
    "for i in range(4):\n",
    "    ingles=input()\n",
    "    espanol=input()\n",
    "    DiccionarioIngles.update({ingles : espanol})\n",
    "\n",
    "DiccionarioIngles"
   ]
  },
  {
   "cell_type": "markdown",
   "id": "a39789ff",
   "metadata": {},
   "source": [
    "# Introduce una lista de 10 palabras y muéstralas de la ultima a la primera"
   ]
  },
  {
   "cell_type": "code",
   "execution_count": null,
   "id": "2bdfddc7",
   "metadata": {},
   "outputs": [],
   "source": [
    "#Solución 1\n",
    "ListaPalabras=[]\n",
    "for i in (range(10)):\n",
    "    ListaPalabras.append(input())\n",
    "\n",
    "ListaPalabras\n",
    "\n",
    "for Palabra in ListaPalabras[::-1]:\n",
    "    print(Palabra)"
   ]
  },
  {
   "cell_type": "code",
   "execution_count": null,
   "id": "de56c7ed",
   "metadata": {},
   "outputs": [],
   "source": [
    "#Solución 2\n",
    "ListaPalabras=[]\n",
    "NumeroPalabras=10;\n",
    "for i in (range(NumeroPalabras)):\n",
    "    ListaPalabras.append(input())\n",
    "\n",
    "for i in range(NumeroPalabras):\n",
    "        print(ListaPalabras[(NumeroPalabras-1)-i])\n"
   ]
  },
  {
   "cell_type": "code",
   "execution_count": null,
   "id": "529fcf84",
   "metadata": {},
   "outputs": [],
   "source": [
    "#Solución 3\n",
    "\n",
    "#Solución 2\n",
    "ListaPalabras=[]\n",
    "NumeroPalabras=10;\n",
    "for i in (range(NumeroPalabras)):\n",
    "    ListaPalabras.append(input())\n",
    "    \n",
    "NumeroPalabras-=1\n",
    "while NumeroPalabras>=0:\n",
    "    print(ListaPalabras[NumeroPalabras])\n",
    "    NumeroPalabras=NumeroPalabras-1"
   ]
  },
  {
   "cell_type": "markdown",
   "id": "d61a79f3",
   "metadata": {},
   "source": [
    "# Mediante funciones realiza un programa que simule una calculadora\n",
    "1. Sumar\n",
    "2. Restar\n",
    "3. Multiplicar\n",
    "4. Dividir\n",
    "Elige opcion:"
   ]
  },
  {
   "cell_type": "code",
   "execution_count": null,
   "id": "2cca394d",
   "metadata": {},
   "outputs": [],
   "source": [
    "#Solución 1\n",
    "def Suma(Valor1,Valor2):\n",
    "    return Valor1+Valor2\n",
    "def Resta(Valor1,Valor2):\n",
    "    return Valor1-Valor2\n",
    "def Multiplicar(Valor1,Valor2):\n",
    "    return Valor1*Valor2\n",
    "def Dividir(Valor1,Valor2):\n",
    "    return Valor1/Valor2\n",
    "def Menu():\n",
    "    print(\"1. Sumar\\n2. Restar\\n3. Multiplicar\\n4. Dividir\\nElige opcion:\")\n",
    "def Valida(minimo, maximo):\n",
    "    opcion=0\n",
    "    while opcion<minimo or opcion>maximo:\n",
    "        opcion=int(input(\"Escribe una opción entre 1 y 4: \"))\n",
    "    return opcion\n",
    "\n",
    "#Programa principal que hace uso de las funciones\n",
    "Valor1=int(input(\"Introduce valor1: \"))\n",
    "Valor2=int(input(\"Introduce valor2: \"))\n",
    "Menu()\n",
    "opcion=Valida(1,4)\n",
    "if opcion==1:\n",
    "    print(Suma(Valor1,Valor2))\n",
    "if opcion==2:\n",
    "    print(Resta(Valor1,Valor2))\n",
    "if opcion==3:\n",
    "    print(Multiplicar(Valor1,Valor2))\n",
    "if opcion==4:\n",
    "    print(Dividir(Valor1,Valor2))"
   ]
  },
  {
   "cell_type": "code",
   "execution_count": null,
   "id": "0b3da1f6",
   "metadata": {},
   "outputs": [],
   "source": [
    "#Solución 2\n",
    "def Suma(Valor1,Valor2):\n",
    "    return Valor1+Valor2\n",
    "def Resta(Valor1,Valor2):\n",
    "    return Valor1-Valor2\n",
    "def Multiplicar(Valor1,Valor2):\n",
    "    return Valor1*Valor2\n",
    "def Dividir(Valor1,Valor2):\n",
    "    return Valor1/Valor2\n",
    "def Menu():\n",
    "    print(\"1. Sumar\\n2. Restar\\n3. Multiplicar\\n4. Dividir\\nElige opcion:\")\n",
    "def Valida(minimo, maximo):\n",
    "    opcion=0\n",
    "    while opcion<minimo or opcion>maximo:\n",
    "        opcion=int(input(\"Escribe una opción entre 1 y 4: \"))\n",
    "    return opcion\n",
    "def calculadora(opcion,Valor1,Valor2):\n",
    "    if opcion==1:\n",
    "        print(Suma(Valor1,Valor2))\n",
    "    if opcion==2:\n",
    "        print(Resta(Valor1,Valor2))\n",
    "    if opcion==3:\n",
    "        print(Multiplicar(Valor1,Valor2))\n",
    "    if opcion==4:\n",
    "        print(Dividir(Valor1,Valor2))\n",
    "\n",
    "\n",
    "\n",
    "\n",
    "#Programa principal que hace uso de las funciones\n",
    "Valor1=int(input(\"Introduce valor1: \"))\n",
    "Valor2=int(input(\"Introduce valor2: \"))\n",
    "Menu()\n",
    "opcion=Valida(1,4)\n",
    "calculadora(opcion, Valor1, Valor2)"
   ]
  },
  {
   "cell_type": "code",
   "execution_count": null,
   "id": "cca45ee4",
   "metadata": {},
   "outputs": [],
   "source": [
    "#Solución 3\n",
    "def Suma(Valor1,Valor2):\n",
    "    return Valor1+Valor2\n",
    "def Resta(Valor1,Valor2):\n",
    "    return Valor1-Valor2\n",
    "def Multiplicar(Valor1,Valor2):\n",
    "    return Valor1*Valor2\n",
    "def Dividir(Valor1,Valor2):\n",
    "    return Valor1/Valor2\n",
    "def Menu():\n",
    "    print(\"1. Sumar\\n2. Restar\\n3. Multiplicar\\n4. Dividir\\n5.Salir\\nElige opcion:\")\n",
    "def Valida(minimo, maximo):\n",
    "    opcion=0\n",
    "    while opcion<minimo or opcion>maximo:\n",
    "        opcion=int(input(\"Escribe una opción entre 1 y 4: \"))\n",
    "    return opcion\n",
    "def calculadora(opcion,Valor1,Valor2):\n",
    "    if opcion==1:\n",
    "        print(Suma(Valor1,Valor2))\n",
    "    if opcion==2:\n",
    "        print(Resta(Valor1,Valor2))\n",
    "    if opcion==3:\n",
    "        print(Multiplicar(Valor1,Valor2))\n",
    "    if opcion==4:\n",
    "        print(Dividir(Valor1,Valor2))\n",
    "\n",
    "\n",
    "\n",
    "\n",
    "#Programa principal que hace uso de las funciones\n",
    "opcion=0\n",
    "\n",
    "while opcion!=5:\n",
    "    Valor1=int(input(\"Introduce valor1: \"))\n",
    "    Valor2=int(input(\"Introduce valor2: \"))\n",
    "    Menu()\n",
    "    opcion=Valida(1,5)\n",
    "    calculadora(opcion, Valor1, Valor2)"
   ]
  },
  {
   "cell_type": "markdown",
   "id": "4a344e30",
   "metadata": {},
   "source": [
    "# Introduce 10 números y guardaros en una lista, muéstralos mediante for."
   ]
  },
  {
   "cell_type": "code",
   "execution_count": null,
   "id": "5a11d954",
   "metadata": {},
   "outputs": [],
   "source": [
    "ListaNumeros=[]\n",
    "for i in (range(10)):\n",
    "    ListaNumeros.append(int(input()))\n",
    "\n",
    "for Numero in ListaNumeros:\n",
    "    print(Numero)"
   ]
  },
  {
   "cell_type": "markdown",
   "id": "f58c8d6e",
   "metadata": {},
   "source": [
    "# Ordena la lista anterior y muéstrala"
   ]
  },
  {
   "cell_type": "code",
   "execution_count": null,
   "id": "55b97995",
   "metadata": {},
   "outputs": [],
   "source": [
    "#Solución 1\n",
    "print(sorted(ListaNumeros))"
   ]
  },
  {
   "cell_type": "code",
   "execution_count": null,
   "id": "0aafc9c7",
   "metadata": {},
   "outputs": [],
   "source": [
    "#Solución 2\n",
    "for i in range(len(ListaNumeros)):\n",
    "    for ii in range(len(ListaNumeros)-1):\n",
    "        if ListaNumeros[ii]> ListaNumeros[ii+1]:\n",
    "            Intercambio=ListaNumeros[ii+1]\n",
    "            ListaNumeros[ii+1]=ListaNumeros[ii]\n",
    "            ListaNumeros[ii]=Intercambio\n",
    "print(ListaNumeros)"
   ]
  },
  {
   "cell_type": "markdown",
   "id": "5eadd088",
   "metadata": {},
   "source": [
    "# Avanzado: Juego del ahorcado.    "
   ]
  },
  {
   "cell_type": "code",
   "execution_count": 2,
   "id": "df2489ab",
   "metadata": {},
   "outputs": [
    {
     "name": "stdout",
     "output_type": "stream",
     "text": [
      "Tienes 4  intentos\n",
      "Esa no letra existe en la posicion  1\n",
      "Esa no letra existe en la posicion  2\n",
      "Esa no letra existe en la posicion  3\n",
      "Esa no letra existe en la posicion  4\n",
      "Esa no letra existe en la posicion  1\n",
      "Esa no letra existe en la posicion  2\n",
      "Esa no letra existe en la posicion  3\n",
      "Esa no letra existe en la posicion  4\n",
      "Esa no letra existe en la posicion  1\n",
      "Esa no letra existe en la posicion  2\n",
      "Esa no letra existe en la posicion  3\n",
      "Esa no letra existe en la posicion  4\n",
      "Esa no letra existe en la posicion  1\n",
      "Esa no letra existe en la posicion  2\n",
      "Esa no letra existe en la posicion  3\n",
      "Esa no letra existe en la posicion  4\n",
      "Has perdido\n"
     ]
    }
   ],
   "source": [
    "#Solución a un ejercicio avanzado que tienes que entender y luego seria aconsejable adaptar a funciones, añade las mejoras que consideres oportunas\n",
    "\n",
    "Palabra=input(\"Introduce la palabra a adivinar: \")\n",
    "Intentos=len(Palabra)\n",
    "print(\"Tienes \"+str(Intentos),\" intentos\" )\n",
    "Ganado=False\n",
    "aciertos=0\n",
    "letrasIntroducidas=[]\n",
    "\n",
    "while not Ganado and Intentos>0:\n",
    "    letra=input(\"Introduce una letra \")\n",
    "    posicion=0\n",
    "    for i in Palabra:\n",
    "        posicion=posicion+1\n",
    "        if letra==i:\n",
    "            if not (letra in letrasIntroducidas):#Hacemos esto para que no cuente acertada una letra correcta ya introducida\n",
    "                aciertos=aciertos+1\n",
    "            print(\"Esa letra existe en la posición \",posicion)\n",
    "        if letra!=i:    \n",
    "            print(\"Esa no letra existe en la posicion \", posicion)\n",
    "        if aciertos==len(Palabra):\n",
    "            Ganado=True            \n",
    "    Intentos=Intentos-1\n",
    "    if not (letra in letrasIntroducidas):#Hacemos esto para que no cuente acertada una letra correcta ya introducida\n",
    "        letrasIntroducidas.append(letra)\n",
    "\n",
    "if Ganado:\n",
    "    print(\"Has ganado en \", len(Palabra)-Intentos,\" intentos\")\n",
    "else:\n",
    "    print(\"Has perdido\")"
   ]
  },
  {
   "cell_type": "code",
   "execution_count": 15,
   "id": "f9b0021b",
   "metadata": {},
   "outputs": [
    {
     "name": "stdout",
     "output_type": "stream",
     "text": [
      "Tienes 5 intentos\n",
      "Esa no letra existe, le quedan 4 intentos\n",
      "Esa no letra existe, le quedan 3 intentos\n",
      "Esa no letra existe, le quedan 2 intentos\n",
      "____o\n",
      "_u__o\n",
      "_un_o\n",
      "Esa no letra existe, le quedan 4 intentos\n",
      "mun_o\n",
      "mundo\n",
      "Has ganado en 5 intentos\n"
     ]
    }
   ],
   "source": [
    "#Solución a un ejercicio avanzado que tienes que entender y luego seria aconsejable adaptar a funciones, añade las mejoras que consideres oportunas\n",
    "from ahorcado import *\n",
    "\n",
    "Palabra=input(\"Introduce la palabra a adivinar: \").lower()\n",
    "Intentos=len(Palabra)\n",
    "print(f\"Tienes {Intentos} intentos\")\n",
    "Ganado=False\n",
    "aciertos=0\n",
    "letrasIntroducidas=[]\n",
    "\n",
    "while Intentos>0:\n",
    "    letra=input(\"Introduce una letra \").lower()\n",
    "    if letra in list(Palabra):\n",
    "        if not (letra in letrasIntroducidas):\n",
    "            letrasIntroducidas.append(letra)\n",
    "            print(obscurecer_palabra(Palabra, letrasIntroducidas))\n",
    "            Intentos+=1\n",
    "            aciertos+=1\n",
    "            if len(letrasIntroducidas)==len(Palabra):\n",
    "                Ganado=True\n",
    "                break\n",
    "            else:\n",
    "                continue\n",
    "        else:\n",
    "            print('Esa letra ya existe, le quedan {Intentos} intentos')       \n",
    "    else:\n",
    "        Intentos-=1    \n",
    "        print(f\"Esa no letra existe, le quedan {Intentos} intentos\")\n",
    "        continue\n",
    "        \n",
    "if Ganado:\n",
    "    print(f\"Has ganado en {aciertos} intentos\")\n",
    "else:\n",
    "    print(f\"Has perdido, la palabra que buscabas era {Palabra}\")"
   ]
  }
 ],
 "metadata": {
  "kernelspec": {
   "display_name": "Python 3 (ipykernel)",
   "language": "python",
   "name": "python3"
  },
  "language_info": {
   "codemirror_mode": {
    "name": "ipython",
    "version": 3
   },
   "file_extension": ".py",
   "mimetype": "text/x-python",
   "name": "python",
   "nbconvert_exporter": "python",
   "pygments_lexer": "ipython3",
   "version": "3.8.10"
  }
 },
 "nbformat": 4,
 "nbformat_minor": 5
}
